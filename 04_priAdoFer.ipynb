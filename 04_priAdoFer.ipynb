{
 "cells": [
  {
   "cell_type": "code",
   "execution_count": 16,
   "metadata": {},
   "outputs": [],
   "source": [
    "# 필요한 모듈들\n",
    "import pandas as pd\n",
    "import numpy as np\n",
    "import seaborn as sns\n",
    "import matplotlib.pyplot as plt \n",
    "%matplotlib inline   \n",
    "import xlrd\n",
    "import wbgapi as wb\n",
    "from gedaTools import timeToInt\n",
    "\n",
    "# 사용자 운영체제 확인\n",
    "import platform\n",
    "platform.system()\n",
    "# 운영체제별 한글 폰트 설정\n",
    "if platform.system() == 'Darwin': # Mac 환경 폰트 설정\n",
    "    plt.rc('font', family='AppleGothic')\n",
    "elif platform.system() == 'Windows': # Windows 환경 폰트 설정\n",
    "    plt.rc('font', family='Malgun Gothic')\n",
    "\n",
    "plt.rc('axes', unicode_minus=False) # 마이너스 폰트 설정\n",
    "\n",
    "\n",
    "# 글씨 선명하게 출력하는 설정\n",
    "%config InlineBackend.figure_format = 'retina'"
   ]
  },
  {
   "cell_type": "code",
   "execution_count": 2,
   "metadata": {},
   "outputs": [],
   "source": [
    "# 청소년 총 출산율\n",
    "adoDT = wb.data.DataFrame('SP.ADO.TFRT', skipBlanks=True)"
   ]
  },
  {
   "cell_type": "code",
   "execution_count": 3,
   "metadata": {},
   "outputs": [],
   "source": [
    "# 남아에 대한 여아의 취학율\n",
    "priDT = wb.data.DataFrame('SE.ENR.PRSC.FM.ZS', skipBlanks=True)"
   ]
  },
  {
   "cell_type": "code",
   "execution_count": 4,
   "metadata": {},
   "outputs": [
    {
     "name": "stdout",
     "output_type": "stream",
     "text": [
      "<class 'pandas.core.frame.DataFrame'>\n",
      "Index: 250 entries, ABW to ZWE\n",
      "Data columns (total 51 columns):\n",
      " #   Column  Non-Null Count  Dtype  \n",
      "---  ------  --------------  -----  \n",
      " 0   YR1970  72 non-null     float64\n",
      " 1   YR1971  155 non-null    float64\n",
      " 2   YR1972  150 non-null    float64\n",
      " 3   YR1973  148 non-null    float64\n",
      " 4   YR1974  142 non-null    float64\n",
      " 5   YR1975  141 non-null    float64\n",
      " 6   YR1976  148 non-null    float64\n",
      " 7   YR1977  150 non-null    float64\n",
      " 8   YR1978  144 non-null    float64\n",
      " 9   YR1979  142 non-null    float64\n",
      " 10  YR1980  139 non-null    float64\n",
      " 11  YR1981  150 non-null    float64\n",
      " 12  YR1982  144 non-null    float64\n",
      " 13  YR1983  146 non-null    float64\n",
      " 14  YR1984  151 non-null    float64\n",
      " 15  YR1985  147 non-null    float64\n",
      " 16  YR1986  155 non-null    float64\n",
      " 17  YR1987  147 non-null    float64\n",
      " 18  YR1988  147 non-null    float64\n",
      " 19  YR1989  146 non-null    float64\n",
      " 20  YR1990  145 non-null    float64\n",
      " 21  YR1991  146 non-null    float64\n",
      " 22  YR1992  144 non-null    float64\n",
      " 23  YR1993  154 non-null    float64\n",
      " 24  YR1994  146 non-null    float64\n",
      " 25  YR1995  139 non-null    float64\n",
      " 26  YR1996  134 non-null    float64\n",
      " 27  YR1997  116 non-null    float64\n",
      " 28  YR1998  132 non-null    float64\n",
      " 29  YR1999  188 non-null    float64\n",
      " 30  YR2000  182 non-null    float64\n",
      " 31  YR2001  180 non-null    float64\n",
      " 32  YR2002  180 non-null    float64\n",
      " 33  YR2003  176 non-null    float64\n",
      " 34  YR2004  189 non-null    float64\n",
      " 35  YR2005  193 non-null    float64\n",
      " 36  YR2006  184 non-null    float64\n",
      " 37  YR2007  187 non-null    float64\n",
      " 38  YR2008  183 non-null    float64\n",
      " 39  YR2009  181 non-null    float64\n",
      " 40  YR2010  181 non-null    float64\n",
      " 41  YR2011  187 non-null    float64\n",
      " 42  YR2012  182 non-null    float64\n",
      " 43  YR2013  169 non-null    float64\n",
      " 44  YR2014  177 non-null    float64\n",
      " 45  YR2015  178 non-null    float64\n",
      " 46  YR2016  174 non-null    float64\n",
      " 47  YR2017  172 non-null    float64\n",
      " 48  YR2018  168 non-null    float64\n",
      " 49  YR2019  160 non-null    float64\n",
      " 50  YR2020  56 non-null     float64\n",
      "dtypes: float64(51)\n",
      "memory usage: 101.6+ KB\n"
     ]
    }
   ],
   "source": [
    "priDT.info()"
   ]
  },
  {
   "cell_type": "code",
   "execution_count": 5,
   "metadata": {},
   "outputs": [],
   "source": [
    "pradDT = wb.data.DataFrame(['SE.ENR.PRSC.FM.ZS', 'SP.ADO.TFRT'], skipBlanks=True, columns='series')"
   ]
  },
  {
   "cell_type": "code",
   "execution_count": 6,
   "metadata": {},
   "outputs": [],
   "source": [
    "pradRST = pradDT.reset_index()"
   ]
  },
  {
   "cell_type": "code",
   "execution_count": 7,
   "metadata": {},
   "outputs": [
    {
     "data": {
      "text/html": [
       "<div>\n",
       "<style scoped>\n",
       "    .dataframe tbody tr th:only-of-type {\n",
       "        vertical-align: middle;\n",
       "    }\n",
       "\n",
       "    .dataframe tbody tr th {\n",
       "        vertical-align: top;\n",
       "    }\n",
       "\n",
       "    .dataframe thead th {\n",
       "        text-align: right;\n",
       "    }\n",
       "</style>\n",
       "<table border=\"1\" class=\"dataframe\">\n",
       "  <thead>\n",
       "    <tr style=\"text-align: right;\">\n",
       "      <th></th>\n",
       "      <th>economy</th>\n",
       "      <th>time</th>\n",
       "      <th>SE.ENR.PRSC.FM.ZS</th>\n",
       "      <th>SP.ADO.TFRT</th>\n",
       "    </tr>\n",
       "  </thead>\n",
       "  <tbody>\n",
       "    <tr>\n",
       "      <th>0</th>\n",
       "      <td>ABW</td>\n",
       "      <td>YR1960</td>\n",
       "      <td>NaN</td>\n",
       "      <td>106.2062</td>\n",
       "    </tr>\n",
       "    <tr>\n",
       "      <th>1</th>\n",
       "      <td>ABW</td>\n",
       "      <td>YR1961</td>\n",
       "      <td>NaN</td>\n",
       "      <td>102.8116</td>\n",
       "    </tr>\n",
       "    <tr>\n",
       "      <th>2</th>\n",
       "      <td>ABW</td>\n",
       "      <td>YR1962</td>\n",
       "      <td>NaN</td>\n",
       "      <td>99.4170</td>\n",
       "    </tr>\n",
       "    <tr>\n",
       "      <th>3</th>\n",
       "      <td>ABW</td>\n",
       "      <td>YR1963</td>\n",
       "      <td>NaN</td>\n",
       "      <td>94.4542</td>\n",
       "    </tr>\n",
       "    <tr>\n",
       "      <th>4</th>\n",
       "      <td>ABW</td>\n",
       "      <td>YR1964</td>\n",
       "      <td>NaN</td>\n",
       "      <td>89.4914</td>\n",
       "    </tr>\n",
       "    <tr>\n",
       "      <th>...</th>\n",
       "      <td>...</td>\n",
       "      <td>...</td>\n",
       "      <td>...</td>\n",
       "      <td>...</td>\n",
       "    </tr>\n",
       "    <tr>\n",
       "      <th>14793</th>\n",
       "      <td>ZWE</td>\n",
       "      <td>YR2015</td>\n",
       "      <td>NaN</td>\n",
       "      <td>95.2182</td>\n",
       "    </tr>\n",
       "    <tr>\n",
       "      <th>14794</th>\n",
       "      <td>ZWE</td>\n",
       "      <td>YR2016</td>\n",
       "      <td>NaN</td>\n",
       "      <td>90.6766</td>\n",
       "    </tr>\n",
       "    <tr>\n",
       "      <th>14795</th>\n",
       "      <td>ZWE</td>\n",
       "      <td>YR2017</td>\n",
       "      <td>NaN</td>\n",
       "      <td>86.1350</td>\n",
       "    </tr>\n",
       "    <tr>\n",
       "      <th>14796</th>\n",
       "      <td>ZWE</td>\n",
       "      <td>YR2018</td>\n",
       "      <td>NaN</td>\n",
       "      <td>83.2486</td>\n",
       "    </tr>\n",
       "    <tr>\n",
       "      <th>14797</th>\n",
       "      <td>ZWE</td>\n",
       "      <td>YR2019</td>\n",
       "      <td>NaN</td>\n",
       "      <td>80.3622</td>\n",
       "    </tr>\n",
       "  </tbody>\n",
       "</table>\n",
       "<p>14798 rows × 4 columns</p>\n",
       "</div>"
      ],
      "text/plain": [
       "      economy    time  SE.ENR.PRSC.FM.ZS  SP.ADO.TFRT\n",
       "0         ABW  YR1960                NaN     106.2062\n",
       "1         ABW  YR1961                NaN     102.8116\n",
       "2         ABW  YR1962                NaN      99.4170\n",
       "3         ABW  YR1963                NaN      94.4542\n",
       "4         ABW  YR1964                NaN      89.4914\n",
       "...       ...     ...                ...          ...\n",
       "14793     ZWE  YR2015                NaN      95.2182\n",
       "14794     ZWE  YR2016                NaN      90.6766\n",
       "14795     ZWE  YR2017                NaN      86.1350\n",
       "14796     ZWE  YR2018                NaN      83.2486\n",
       "14797     ZWE  YR2019                NaN      80.3622\n",
       "\n",
       "[14798 rows x 4 columns]"
      ]
     },
     "execution_count": 7,
     "metadata": {},
     "output_type": "execute_result"
    }
   ],
   "source": [
    "pradRST"
   ]
  },
  {
   "cell_type": "code",
   "execution_count": 8,
   "metadata": {},
   "outputs": [],
   "source": [
    "pradYR = pradRST.copy()\n",
    "pradYR['time'] = timeToInt(pradRST)"
   ]
  },
  {
   "cell_type": "code",
   "execution_count": 9,
   "metadata": {},
   "outputs": [],
   "source": [
    "pradYR.dropna(inplace=True)"
   ]
  },
  {
   "cell_type": "code",
   "execution_count": 10,
   "metadata": {},
   "outputs": [
    {
     "data": {
      "text/html": [
       "<div>\n",
       "<style scoped>\n",
       "    .dataframe tbody tr th:only-of-type {\n",
       "        vertical-align: middle;\n",
       "    }\n",
       "\n",
       "    .dataframe tbody tr th {\n",
       "        vertical-align: top;\n",
       "    }\n",
       "\n",
       "    .dataframe thead th {\n",
       "        text-align: right;\n",
       "    }\n",
       "</style>\n",
       "<table border=\"1\" class=\"dataframe\">\n",
       "  <thead>\n",
       "    <tr style=\"text-align: right;\">\n",
       "      <th></th>\n",
       "      <th>economy</th>\n",
       "      <th>time</th>\n",
       "      <th>SE.ENR.PRSC.FM.ZS</th>\n",
       "      <th>SP.ADO.TFRT</th>\n",
       "    </tr>\n",
       "  </thead>\n",
       "  <tbody>\n",
       "    <tr>\n",
       "      <th>39</th>\n",
       "      <td>ABW</td>\n",
       "      <td>1999</td>\n",
       "      <td>1.01192</td>\n",
       "      <td>44.8300</td>\n",
       "    </tr>\n",
       "    <tr>\n",
       "      <th>40</th>\n",
       "      <td>ABW</td>\n",
       "      <td>2000</td>\n",
       "      <td>0.99266</td>\n",
       "      <td>43.5930</td>\n",
       "    </tr>\n",
       "    <tr>\n",
       "      <th>41</th>\n",
       "      <td>ABW</td>\n",
       "      <td>2001</td>\n",
       "      <td>0.99949</td>\n",
       "      <td>42.3560</td>\n",
       "    </tr>\n",
       "    <tr>\n",
       "      <th>42</th>\n",
       "      <td>ABW</td>\n",
       "      <td>2002</td>\n",
       "      <td>0.98900</td>\n",
       "      <td>41.1190</td>\n",
       "    </tr>\n",
       "    <tr>\n",
       "      <th>43</th>\n",
       "      <td>ABW</td>\n",
       "      <td>2003</td>\n",
       "      <td>0.97706</td>\n",
       "      <td>39.6676</td>\n",
       "    </tr>\n",
       "    <tr>\n",
       "      <th>...</th>\n",
       "      <td>...</td>\n",
       "      <td>...</td>\n",
       "      <td>...</td>\n",
       "      <td>...</td>\n",
       "    </tr>\n",
       "    <tr>\n",
       "      <th>14779</th>\n",
       "      <td>ZWE</td>\n",
       "      <td>2001</td>\n",
       "      <td>0.94385</td>\n",
       "      <td>100.2964</td>\n",
       "    </tr>\n",
       "    <tr>\n",
       "      <th>14780</th>\n",
       "      <td>ZWE</td>\n",
       "      <td>2002</td>\n",
       "      <td>0.94233</td>\n",
       "      <td>100.3510</td>\n",
       "    </tr>\n",
       "    <tr>\n",
       "      <th>14781</th>\n",
       "      <td>ZWE</td>\n",
       "      <td>2003</td>\n",
       "      <td>0.94786</td>\n",
       "      <td>102.4990</td>\n",
       "    </tr>\n",
       "    <tr>\n",
       "      <th>14790</th>\n",
       "      <td>ZWE</td>\n",
       "      <td>2012</td>\n",
       "      <td>0.96703</td>\n",
       "      <td>108.8430</td>\n",
       "    </tr>\n",
       "    <tr>\n",
       "      <th>14791</th>\n",
       "      <td>ZWE</td>\n",
       "      <td>2013</td>\n",
       "      <td>0.97012</td>\n",
       "      <td>104.3014</td>\n",
       "    </tr>\n",
       "  </tbody>\n",
       "</table>\n",
       "<p>7669 rows × 4 columns</p>\n",
       "</div>"
      ],
      "text/plain": [
       "      economy  time  SE.ENR.PRSC.FM.ZS  SP.ADO.TFRT\n",
       "39        ABW  1999            1.01192      44.8300\n",
       "40        ABW  2000            0.99266      43.5930\n",
       "41        ABW  2001            0.99949      42.3560\n",
       "42        ABW  2002            0.98900      41.1190\n",
       "43        ABW  2003            0.97706      39.6676\n",
       "...       ...   ...                ...          ...\n",
       "14779     ZWE  2001            0.94385     100.2964\n",
       "14780     ZWE  2002            0.94233     100.3510\n",
       "14781     ZWE  2003            0.94786     102.4990\n",
       "14790     ZWE  2012            0.96703     108.8430\n",
       "14791     ZWE  2013            0.97012     104.3014\n",
       "\n",
       "[7669 rows x 4 columns]"
      ]
     },
     "execution_count": 10,
     "metadata": {},
     "output_type": "execute_result"
    }
   ],
   "source": [
    "pradYR"
   ]
  },
  {
   "cell_type": "code",
   "execution_count": 11,
   "metadata": {},
   "outputs": [
    {
     "data": {
      "text/html": [
       "<div>\n",
       "<style scoped>\n",
       "    .dataframe tbody tr th:only-of-type {\n",
       "        vertical-align: middle;\n",
       "    }\n",
       "\n",
       "    .dataframe tbody tr th {\n",
       "        vertical-align: top;\n",
       "    }\n",
       "\n",
       "    .dataframe thead th {\n",
       "        text-align: right;\n",
       "    }\n",
       "</style>\n",
       "<table border=\"1\" class=\"dataframe\">\n",
       "  <thead>\n",
       "    <tr style=\"text-align: right;\">\n",
       "      <th></th>\n",
       "      <th>economy</th>\n",
       "      <th>adoAV</th>\n",
       "      <th>priAV</th>\n",
       "      <th>priCL</th>\n",
       "    </tr>\n",
       "  </thead>\n",
       "  <tbody>\n",
       "    <tr>\n",
       "      <th>0</th>\n",
       "      <td>ABW</td>\n",
       "      <td>36.355857</td>\n",
       "      <td>0.992578</td>\n",
       "      <td>6</td>\n",
       "    </tr>\n",
       "    <tr>\n",
       "      <th>1</th>\n",
       "      <td>AFG</td>\n",
       "      <td>133.825889</td>\n",
       "      <td>0.437368</td>\n",
       "      <td>0</td>\n",
       "    </tr>\n",
       "    <tr>\n",
       "      <th>2</th>\n",
       "      <td>AGO</td>\n",
       "      <td>199.294267</td>\n",
       "      <td>0.754897</td>\n",
       "      <td>1</td>\n",
       "    </tr>\n",
       "    <tr>\n",
       "      <th>3</th>\n",
       "      <td>ALB</td>\n",
       "      <td>19.098735</td>\n",
       "      <td>0.972912</td>\n",
       "      <td>4</td>\n",
       "    </tr>\n",
       "    <tr>\n",
       "      <th>4</th>\n",
       "      <td>ARB</td>\n",
       "      <td>72.617484</td>\n",
       "      <td>0.812816</td>\n",
       "      <td>2</td>\n",
       "    </tr>\n",
       "    <tr>\n",
       "      <th>...</th>\n",
       "      <td>...</td>\n",
       "      <td>...</td>\n",
       "      <td>...</td>\n",
       "      <td>...</td>\n",
       "    </tr>\n",
       "    <tr>\n",
       "      <th>229</th>\n",
       "      <td>WSM</td>\n",
       "      <td>39.915243</td>\n",
       "      <td>1.059474</td>\n",
       "      <td>9</td>\n",
       "    </tr>\n",
       "    <tr>\n",
       "      <th>230</th>\n",
       "      <td>YEM</td>\n",
       "      <td>77.166655</td>\n",
       "      <td>0.683014</td>\n",
       "      <td>0</td>\n",
       "    </tr>\n",
       "    <tr>\n",
       "      <th>231</th>\n",
       "      <td>ZAF</td>\n",
       "      <td>72.847544</td>\n",
       "      <td>1.012826</td>\n",
       "      <td>8</td>\n",
       "    </tr>\n",
       "    <tr>\n",
       "      <th>232</th>\n",
       "      <td>ZMB</td>\n",
       "      <td>179.532289</td>\n",
       "      <td>0.839429</td>\n",
       "      <td>2</td>\n",
       "    </tr>\n",
       "    <tr>\n",
       "      <th>233</th>\n",
       "      <td>ZWE</td>\n",
       "      <td>129.119497</td>\n",
       "      <td>0.901375</td>\n",
       "      <td>3</td>\n",
       "    </tr>\n",
       "  </tbody>\n",
       "</table>\n",
       "<p>234 rows × 4 columns</p>\n",
       "</div>"
      ],
      "text/plain": [
       "    economy       adoAV     priAV priCL\n",
       "0       ABW   36.355857  0.992578     6\n",
       "1       AFG  133.825889  0.437368     0\n",
       "2       AGO  199.294267  0.754897     1\n",
       "3       ALB   19.098735  0.972912     4\n",
       "4       ARB   72.617484  0.812816     2\n",
       "..      ...         ...       ...   ...\n",
       "229     WSM   39.915243  1.059474     9\n",
       "230     YEM   77.166655  0.683014     0\n",
       "231     ZAF   72.847544  1.012826     8\n",
       "232     ZMB  179.532289  0.839429     2\n",
       "233     ZWE  129.119497  0.901375     3\n",
       "\n",
       "[234 rows x 4 columns]"
      ]
     },
     "execution_count": 11,
     "metadata": {},
     "output_type": "execute_result"
    }
   ],
   "source": [
    "# 나라별 취학율 범주화\n",
    "pradGR = pradYR.groupby('economy')[['SE.ENR.PRSC.FM.ZS', 'SP.ADO.TFRT']].agg(\\\n",
    "    **{'adoAV':pd.NamedAgg(column='SP.ADO.TFRT', aggfunc='mean'),\\\n",
    "       'priAV':pd.NamedAgg(column='SE.ENR.PRSC.FM.ZS', aggfunc='mean')})\\\n",
    ".reset_index()\n",
    "\n",
    "pradBIN = pradGR.copy()\n",
    "pradBIN[\"priCL\"] = pd.qcut(pradGR[\"priAV\"], 10, labels=[0, 1, 2, 3, 4, 5, 6, 7, 8 , 9])\n",
    "pradBIN"
   ]
  },
  {
   "cell_type": "markdown",
   "metadata": {},
   "source": [
    "## 1차 시각화 : 취학율과 청소년 출산율 관계 jointplot"
   ]
  },
  {
   "cell_type": "code",
   "execution_count": 13,
   "metadata": {},
   "outputs": [
    {
     "data": {
      "text/plain": [
       "[]"
      ]
     },
     "execution_count": 13,
     "metadata": {},
     "output_type": "execute_result"
    },
    {
     "data": {
      "image/png": "[encoded data removed]",
      "text/plain": [
       "<Figure size 432x432 with 3 Axes>"
      ]
     },
     "metadata": {
      "needs_background": "light"
     },
     "output_type": "display_data"
    }
   ],
   "source": [
    "sns.jointplot(x=\"priCL\", y=\"adoAV\", data=pradBIN, kind=\"scatter\")\n",
    "plt.plot()"
   ]
  },
  {
   "cell_type": "code",
   "execution_count": null,
   "metadata": {},
   "outputs": [],
   "source": [
    "# 취학율이 높아질수록\n",
    "# 청소년 출산율이 낮아지는 양상을 보인다."
   ]
  },
  {
   "cell_type": "markdown",
   "metadata": {},
   "source": [
    "### 1차 시각화 -2 취학율과 청소년 출산율 관계성 히트맵 시각화"
   ]
  },
  {
   "cell_type": "code",
   "execution_count": 19,
   "metadata": {},
   "outputs": [
    {
     "data": {
      "image/png": "[encoded data removed]",
      "text/plain": [
       "<Figure size 720x720 with 2 Axes>"
      ]
     },
     "metadata": {
      "image/png": {
       "height": 590,
       "width": 571
      },
      "needs_background": "light"
     },
     "output_type": "display_data"
    }
   ],
   "source": [
    "priDT = pd.pivot_table(pradBIN.loc[:,['adoAV', 'priCL']], index= ['priCL'], aggfunc=np.mean)\n",
    "\n",
    "plt.figure(figsize=(10,10))\n",
    "sns.heatmap(priDT, annot=True, fmt='f', linewidth='.5', cmap='RdPu')\n",
    "plt.title('취학율과 청소년 출산율과의 관계성')\n",
    "plt.ylabel('취학율')\n",
    "plt.show()"
   ]
  },
  {
   "cell_type": "markdown",
   "metadata": {},
   "source": [
    "### 히트맵에서 대체로 그 연관성 보임\n",
    "( 오히려 가장 높았을 때 출산율이 낮지만은 않은 예외적인 현상도 보임.)"
   ]
  },
  {
   "cell_type": "code",
   "execution_count": null,
   "metadata": {},
   "outputs": [],
   "source": []
  }
 ],
 "metadata": {
  "interpreter": {
   "hash": "12e71eaf7ed5695171fa11c1021838d1a90498eb08eca699052fc06909164b9a"
  },
  "kernelspec": {
   "display_name": "Python 3",
   "language": "python",
   "name": "python3"
  },
  "language_info": {
   "codemirror_mode": {
    "name": "ipython",
    "version": 3
   },
   "file_extension": ".py",
   "mimetype": "text/x-python",
   "name": "python",
   "nbconvert_exporter": "python",
   "pygments_lexer": "ipython3",
   "version": "3.8.8"
  }
 },
 "nbformat": 4,
 "nbformat_minor": 2
}
