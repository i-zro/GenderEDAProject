{
 "cells": [
  {
   "cell_type": "code",
   "execution_count": 1,
   "metadata": {},
   "outputs": [],
   "source": [
    "# 필요한 모듈들\n",
    "import pandas as pd\n",
    "import numpy as np\n",
    "import seaborn as sns\n",
    "import matplotlib.pyplot as plt \n",
    "%matplotlib inline   \n",
    "import xlrd\n",
    "import wbgapi as wb\n",
    "from gedaTools import timeToInt"
   ]
  },
  {
   "cell_type": "code",
   "execution_count": null,
   "metadata": {},
   "outputs": [],
   "source": [
    "totalDT = wb.data.DataFrame\\\n",
    "    (['SP.DYN.CONU.ZS', 'SG.GEN.PARL.ZS', 'SL.AGR.EMPL.FE.ZS', 'SL.IND.EMPL.FE.ZS', 'SL.SRV.EMPL.FE.ZS'],\\\n",
    "        skipBlanks=True, columns='series')"
   ]
  },
  {
   "cell_type": "code",
   "execution_count": null,
   "metadata": {},
   "outputs": [],
   "source": [
    "totDDT = totalDT.dropna(how='any')"
   ]
  },
  {
   "cell_type": "code",
   "execution_count": null,
   "metadata": {},
   "outputs": [],
   "source": [
    "totRST = totDDT.reset_index()"
   ]
  },
  {
   "cell_type": "code",
   "execution_count": null,
   "metadata": {},
   "outputs": [],
   "source": [
    "totRST"
   ]
  },
  {
   "cell_type": "code",
   "execution_count": null,
   "metadata": {},
   "outputs": [],
   "source": [
    "totH = totRST.iloc[:, 2:]\n",
    "totH"
   ]
  },
  {
   "cell_type": "code",
   "execution_count": null,
   "metadata": {},
   "outputs": [],
   "source": [
    "plt.figure(figsize=(7, 5))\n",
    "sns.set(style=\"whitegrid\")\n",
    "ax=sns.scatterplot(x='SP.DYN.CONU.ZS', y='SG.GEN.PARL.ZS', data=totH, linewidth=2.5)\n",
    "\n",
    "plt.figure(figsize=(7, 5))\n",
    "sns.set(style=\"whitegrid\")\n",
    "ax=sns.scatterplot(x='SP.DYN.CONU.ZS', y='SL.AGR.EMPL.FE.ZS', data=totH, linewidth=2.5)\n",
    "\n",
    "plt.figure(figsize=(7, 5))\n",
    "sns.set(style=\"whitegrid\")\n",
    "ax=sns.scatterplot(x='SP.DYN.CONU.ZS', y='SL.IND.EMPL.FE.ZS', data=totH, linewidth=2.5)\n",
    "\n",
    "plt.figure(figsize=(7, 5))\n",
    "sns.set(style=\"whitegrid\")\n",
    "ax=sns.scatterplot(x='SP.DYN.CONU.ZS', y='SL.SRV.EMPL.FE.ZS', data=totH, linewidth=2.5)\n",
    "\n",
    "# 직군별로 다른 모습"
   ]
  },
  {
   "cell_type": "code",
   "execution_count": null,
   "metadata": {},
   "outputs": [],
   "source": [
    "conPIV = pd.pivot_table(totH, index='SP.DYN.CONU.ZS')\n",
    "conPIV"
   ]
  },
  {
   "cell_type": "code",
   "execution_count": null,
   "metadata": {},
   "outputs": [],
   "source": [
    "fig, axes = plt.subplots(figsize=(30, 30))\n",
    "sns.heatmap(conPIV, cmap='RdBu', ax=axes)\n",
    "plt.xlabel('Female Employment')\n",
    "plt.ylabel('Female Contraceptive prevalence')\n",
    "plt.show()"
   ]
  }
 ],
 "metadata": {
  "interpreter": {
   "hash": "12e71eaf7ed5695171fa11c1021838d1a90498eb08eca699052fc06909164b9a"
  },
  "kernelspec": {
   "display_name": "Python 3 (ipykernel)",
   "language": "python",
   "name": "python3"
  },
  "language_info": {
   "codemirror_mode": {
    "name": "ipython",
    "version": 3
   },
   "file_extension": ".py",
   "mimetype": "text/x-python",
   "name": "python",
   "nbconvert_exporter": "python",
   "pygments_lexer": "ipython3",
   "version": "3.9.7"
  }
 },
 "nbformat": 4,
 "nbformat_minor": 2
}
