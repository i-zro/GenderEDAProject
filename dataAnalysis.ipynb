{
 "cells": [
  {
   "cell_type": "code",
   "execution_count": 1,
   "metadata": {},
   "outputs": [],
   "source": [
    "# 필요한 모듈들\n",
    "import pandas as pd\n",
    "import numpy as np\n",
    "import seaborn as sns\n",
    "import matplotlib.pyplot as plt \n",
    "%matplotlib inline   \n",
    "import xlrd\n",
    "import wbgapi as wb\n",
    "import import_ipynb"
   ]
  },
  {
   "cell_type": "code",
   "execution_count": 2,
   "metadata": {},
   "outputs": [
    {
     "data": {
      "text/html": [
       "<div class=\"wbgapi\"><table>\n",
       "<thead>\n",
       "<tr><th>code  </th><th>name                                                 </th></tr>\n",
       "</thead>\n",
       "<tbody>\n",
       "<tr><td>AFE   </td><td>Africa Eastern and Southern                          </td></tr>\n",
       "<tr><td>AFR   </td><td>Africa                                               </td></tr>\n",
       "<tr><td>AFW   </td><td>Africa Western and Central                           </td></tr>\n",
       "<tr><td>ARB   </td><td>Arab World                                           </td></tr>\n",
       "<tr><td>CAA   </td><td>Sub-Saharan Africa (IFC classification)              </td></tr>\n",
       "<tr><td>CEA   </td><td>East Asia and the Pacific (IFC classification)       </td></tr>\n",
       "<tr><td>CEB   </td><td>Central Europe and the Baltics                       </td></tr>\n",
       "<tr><td>CEU   </td><td>Europe and Central Asia (IFC classification)         </td></tr>\n",
       "<tr><td>CLA   </td><td>Latin America and the Caribbean (IFC classification) </td></tr>\n",
       "<tr><td>CME   </td><td>Middle East and North Africa (IFC classification)    </td></tr>\n",
       "<tr><td>CSA   </td><td>South Asia (IFC classification)                      </td></tr>\n",
       "<tr><td>CSS   </td><td>Caribbean small states                               </td></tr>\n",
       "<tr><td>EAP   </td><td>East Asia &amp; Pacific (excluding high income)          </td></tr>\n",
       "<tr><td>EAR   </td><td>Early-demographic dividend                           </td></tr>\n",
       "<tr><td>EAS   </td><td>East Asia &amp; Pacific                                  </td></tr>\n",
       "<tr><td>ECA   </td><td>Europe &amp; Central Asia (excluding high income)        </td></tr>\n",
       "<tr><td>ECS   </td><td>Europe &amp; Central Asia                                </td></tr>\n",
       "<tr><td>EMU   </td><td>Euro area                                            </td></tr>\n",
       "<tr><td>EUU   </td><td>European Union                                       </td></tr>\n",
       "<tr><td>FCS   </td><td>Fragile and conflict affected situations             </td></tr>\n",
       "<tr><td>HPC   </td><td>Heavily indebted poor countries (HIPC)               </td></tr>\n",
       "<tr><td>LAC   </td><td>Latin America &amp; Caribbean (excluding high income)    </td></tr>\n",
       "<tr><td>LCN   </td><td>Latin America &amp; Caribbean                            </td></tr>\n",
       "<tr><td>LDC   </td><td>Least developed countries: UN classification         </td></tr>\n",
       "<tr><td>LTE   </td><td>Late-demographic dividend                            </td></tr>\n",
       "<tr><td>MDE   </td><td>Middle East (developing only)                        </td></tr>\n",
       "<tr><td>MEA   </td><td>Middle East &amp; North Africa                           </td></tr>\n",
       "<tr><td>MNA   </td><td>Middle East &amp; North Africa (excluding high income)   </td></tr>\n",
       "<tr><td>NAC   </td><td>North America                                        </td></tr>\n",
       "<tr><td>NAF   </td><td>North Africa                                         </td></tr>\n",
       "<tr><td>NRS   </td><td>Non-resource rich Sub-Saharan Africa countries       </td></tr>\n",
       "<tr><td>OED   </td><td>OECD members                                         </td></tr>\n",
       "<tr><td>OSS   </td><td>Other small states                                   </td></tr>\n",
       "<tr><td>PRE   </td><td>Pre-demographic dividend                             </td></tr>\n",
       "<tr><td>PSS   </td><td>Pacific island small states                          </td></tr>\n",
       "<tr><td>PST   </td><td>Post-demographic dividend                            </td></tr>\n",
       "<tr><td>RRS   </td><td>Resource rich Sub-Saharan Africa countries           </td></tr>\n",
       "<tr><td>SAS   </td><td>South Asia                                           </td></tr>\n",
       "<tr><td>SSA   </td><td>Sub-Saharan Africa (excluding high income)           </td></tr>\n",
       "<tr><td>SSF   </td><td>Sub-Saharan Africa                                   </td></tr>\n",
       "<tr><td>SST   </td><td>Small states                                         </td></tr>\n",
       "<tr><td>SXZ   </td><td>Sub-Saharan Africa excluding South Africa            </td></tr>\n",
       "<tr><td>WLD   </td><td>World                                                </td></tr>\n",
       "<tr><td>XZN   </td><td>Sub-Saharan Africa excluding South Africa and Nigeria</td></tr>\n",
       "<tr><td>      </td><td>44 elements                                          </td></tr>\n",
       "</tbody>\n",
       "</table></div>"
      ],
      "text/plain": [
       "code    name\n",
       "------  -----------------------------------------------------\n",
       "AFE     Africa Eastern and Southern\n",
       "AFR     Africa\n",
       "AFW     Africa Western and Central\n",
       "ARB     Arab World\n",
       "CAA     Sub-Saharan Africa (IFC classification)\n",
       "CEA     East Asia and the Pacific (IFC classification)\n",
       "CEB     Central Europe and the Baltics\n",
       "CEU     Europe and Central Asia (IFC classification)\n",
       "CLA     Latin America and the Caribbean (IFC classification)\n",
       "CME     Middle East and North Africa (IFC classification)\n",
       "CSA     South Asia (IFC classification)\n",
       "CSS     Caribbean small states\n",
       "EAP     East Asia & Pacific (excluding high income)\n",
       "EAR     Early-demographic dividend\n",
       "EAS     East Asia & Pacific\n",
       "ECA     Europe & Central Asia (excluding high income)\n",
       "ECS     Europe & Central Asia\n",
       "EMU     Euro area\n",
       "EUU     European Union\n",
       "FCS     Fragile and conflict affected situations\n",
       "HPC     Heavily indebted poor countries (HIPC)\n",
       "LAC     Latin America & Caribbean (excluding high income)\n",
       "LCN     Latin America & Caribbean\n",
       "LDC     Least developed countries: UN classification\n",
       "LTE     Late-demographic dividend\n",
       "MDE     Middle East (developing only)\n",
       "MEA     Middle East & North Africa\n",
       "MNA     Middle East & North Africa (excluding high income)\n",
       "NAC     North America\n",
       "NAF     North Africa\n",
       "NRS     Non-resource rich Sub-Saharan Africa countries\n",
       "OED     OECD members\n",
       "OSS     Other small states\n",
       "PRE     Pre-demographic dividend\n",
       "PSS     Pacific island small states\n",
       "PST     Post-demographic dividend\n",
       "RRS     Resource rich Sub-Saharan Africa countries\n",
       "SAS     South Asia\n",
       "SSA     Sub-Saharan Africa (excluding high income)\n",
       "SSF     Sub-Saharan Africa\n",
       "SST     Small states\n",
       "SXZ     Sub-Saharan Africa excluding South Africa\n",
       "WLD     World\n",
       "XZN     Sub-Saharan Africa excluding South Africa and Nigeria\n",
       "        44 elements"
      ]
     },
     "execution_count": 2,
     "metadata": {},
     "output_type": "execute_result"
    }
   ],
   "source": [
    "wb.region.info() # 지역 코드"
   ]
  },
  {
   "cell_type": "code",
   "execution_count": 3,
   "metadata": {},
   "outputs": [],
   "source": [
    "arguZS = wb.data.DataFrame('SG.VAW.ARGU.ZS')\n",
    "burnZS = wb.data.DataFrame('SG.VAW.BURN.ZS')\n",
    "goesZS = wb.data.DataFrame('SG.VAW.GOES.ZS')\n",
    "neglZS = wb.data.DataFrame('SG.VAW.NEGL.ZS')\n",
    "refuZS = wb.data.DataFrame('SG.VAW.REFU.ZS')"
   ]
  },
  {
   "cell_type": "code",
   "execution_count": 4,
   "metadata": {},
   "outputs": [],
   "source": [
    "def testPrinter():\n",
    "    print(arguZS.info())"
   ]
  },
  {
   "cell_type": "code",
   "execution_count": null,
   "metadata": {},
   "outputs": [],
   "source": []
  }
 ],
 "metadata": {
  "interpreter": {
   "hash": "12e71eaf7ed5695171fa11c1021838d1a90498eb08eca699052fc06909164b9a"
  },
  "kernelspec": {
   "display_name": "Python 3.9.7 64-bit",
   "language": "python",
   "name": "python3"
  },
  "language_info": {
   "codemirror_mode": {
    "name": "ipython",
    "version": 3
   },
   "file_extension": ".py",
   "mimetype": "text/x-python",
   "name": "python",
   "nbconvert_exporter": "python",
   "pygments_lexer": "ipython3",
   "version": "3.9.7"
  },
  "orig_nbformat": 4
 },
 "nbformat": 4,
 "nbformat_minor": 2
}
